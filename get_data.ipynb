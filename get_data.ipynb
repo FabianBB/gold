{
 "cells": [
  {
   "cell_type": "code",
   "id": "initial_id",
   "metadata": {
    "collapsed": true,
    "ExecuteTime": {
     "end_time": "2024-05-05T20:50:30.613211Z",
     "start_time": "2024-05-05T20:50:29.944693Z"
    }
   },
   "source": [
    "import pandas as pd\n",
    "import numpy as np\n",
    "import matplotlib.pyplot as plt\n",
    "import seaborn as sns\n",
    "import yfinance as yf"
   ],
   "outputs": [],
   "execution_count": 1
  },
  {
   "metadata": {
    "ExecuteTime": {
     "end_time": "2024-05-05T21:07:05.206178Z",
     "start_time": "2024-05-05T21:07:05.202382Z"
    }
   },
   "cell_type": "code",
   "source": [
    "startdate = '2004-01-01'\n",
    "enddate = '2014-11-1'"
   ],
   "id": "d3c189b87c45c8e4",
   "outputs": [],
   "execution_count": 40
  },
  {
   "metadata": {
    "ExecuteTime": {
     "end_time": "2024-05-05T21:07:05.699069Z",
     "start_time": "2024-05-05T21:07:05.647082Z"
    }
   },
   "cell_type": "code",
   "source": [
    "# get gold data from yahoo finance 01.03.2004 to 20.10.2014\n",
    "gold = yf.download('GLD', start=startdate, end='2014-10-20')\n",
    "gold.to_csv('gold.csv')\n"
   ],
   "id": "11e697c17e391f81",
   "outputs": [
    {
     "name": "stderr",
     "output_type": "stream",
     "text": [
      "[*********************100%%**********************]  1 of 1 completed\n"
     ]
    }
   ],
   "execution_count": 41
  },
  {
   "metadata": {
    "ExecuteTime": {
     "end_time": "2024-05-05T21:07:06.150339Z",
     "start_time": "2024-05-05T21:07:05.900506Z"
    }
   },
   "cell_type": "code",
   "source": [
    "# get S&P 500 data from yahoo finance 01.03.2004 to 20.10.2014\n",
    "sp500 = yf.download('^GSPC', start=startdate, end=enddate)\n",
    "sp500.to_csv('sp500.csv')"
   ],
   "id": "658c209763f22a7e",
   "outputs": [
    {
     "name": "stderr",
     "output_type": "stream",
     "text": [
      "[*********************100%%**********************]  1 of 1 completed\n"
     ]
    }
   ],
   "execution_count": 42
  },
  {
   "metadata": {
    "ExecuteTime": {
     "end_time": "2024-05-05T21:07:06.334304Z",
     "start_time": "2024-05-05T21:07:06.151332Z"
    }
   },
   "cell_type": "code",
   "source": [
    "# get VIX data from yahoo finance 01.03.2004 to 20.10.2014\n",
    "vix = yf.download('^VIX', start=startdate, end=enddate)\n",
    "vix.to_csv('vix.csv')"
   ],
   "id": "c6c06819dad03b55",
   "outputs": [
    {
     "name": "stderr",
     "output_type": "stream",
     "text": [
      "[*********************100%%**********************]  1 of 1 completed\n"
     ]
    }
   ],
   "execution_count": 43
  },
  {
   "metadata": {
    "ExecuteTime": {
     "end_time": "2024-05-05T21:07:06.567945Z",
     "start_time": "2024-05-05T21:07:06.399012Z"
    }
   },
   "cell_type": "code",
   "source": [
    "# get the Euro price in USD from yahoo finance 01.03.2004 to 20.10.2014\n",
    "eur_usd = yf.download('EURUSD=X', start=startdate, end=enddate)\n",
    "eur_usd.to_csv('eur_usd.csv')"
   ],
   "id": "87a95f494d96e30c",
   "outputs": [
    {
     "name": "stderr",
     "output_type": "stream",
     "text": [
      "[*********************100%%**********************]  1 of 1 completed\n"
     ]
    }
   ],
   "execution_count": 44
  },
  {
   "metadata": {
    "ExecuteTime": {
     "end_time": "2024-05-05T21:07:06.809361Z",
     "start_time": "2024-05-05T21:07:06.669334Z"
    }
   },
   "cell_type": "code",
   "source": [
    "# get the oil price from yahoo finance 01.03.2004 to 20.10.2014\n",
    "oil = yf.download('CL=F', start=startdate, end=enddate)\n",
    "oil.to_csv('oil.csv')"
   ],
   "id": "59ecfa462292d33",
   "outputs": [
    {
     "name": "stderr",
     "output_type": "stream",
     "text": [
      "[*********************100%%**********************]  1 of 1 completed\n"
     ]
    }
   ],
   "execution_count": 45
  },
  {
   "metadata": {
    "ExecuteTime": {
     "end_time": "2024-05-05T21:07:09.769762Z",
     "start_time": "2024-05-05T21:07:09.716214Z"
    }
   },
   "cell_type": "code",
   "source": [
    "# load all data\n",
    "gold = pd.read_csv('gold.csv')\n",
    "sp500 = pd.read_csv('sp500.csv')\n",
    "vix = pd.read_csv('vix.csv')\n",
    "eur_usd = pd.read_csv('eur_usd.csv')\n",
    "oil = pd.read_csv('oil.csv')\n",
    "cfsi = pd.read_csv('CFSI.csv')\n",
    "# for cfsi rename the DATE column to Date\n",
    "cfsi.rename(columns={'DATE': 'Date'}, inplace=True)\n"
   ],
   "id": "30e119b3985d2a28",
   "outputs": [],
   "execution_count": 46
  },
  {
   "metadata": {
    "ExecuteTime": {
     "end_time": "2024-05-05T21:07:16.185634Z",
     "start_time": "2024-05-05T21:07:16.181809Z"
    }
   },
   "cell_type": "code",
   "source": [
    "# print len of all\n",
    "print(len(gold))\n",
    "print(len(sp500))\n",
    "print(len(vix))\n",
    "print(len(eur_usd))\n",
    "print(len(oil))\n",
    "print(len(cfsi))"
   ],
   "id": "e1503a92e49ca832",
   "outputs": [
    {
     "name": "stdout",
     "output_type": "stream",
     "text": [
      "2496\n",
      "2728\n",
      "2728\n",
      "2801\n",
      "2724\n",
      "7771\n"
     ]
    }
   ],
   "execution_count": 47
  },
  {
   "metadata": {
    "ExecuteTime": {
     "end_time": "2024-05-05T21:07:42.052271Z",
     "start_time": "2024-05-05T21:07:42.044737Z"
    }
   },
   "cell_type": "code",
   "source": [
    "# for each dataset (except cfsi) drop all but date and close columns\n",
    "gold = gold[['Date', 'Close']]\n",
    "sp500 = sp500[['Date', 'Close']]\n",
    "vix = vix[['Date', 'Close']]\n",
    "eur_usd = eur_usd[['Date', 'Close']]\n",
    "oil = oil[['Date', 'Close']]\n"
   ],
   "id": "6f783feb11b6a625",
   "outputs": [],
   "execution_count": 48
  },
  {
   "metadata": {
    "ExecuteTime": {
     "end_time": "2024-05-05T21:07:44.054603Z",
     "start_time": "2024-05-05T21:07:44.046857Z"
    }
   },
   "cell_type": "code",
   "source": [
    "# for each dataset (except cfsi) rename the close column to the name of the dataset + close\n",
    "gold.rename(columns={'Close': 'Close_gold'}, inplace=True)\n",
    "sp500.rename(columns={'Close': 'Close_sp500'}, inplace=True)\n",
    "vix.rename(columns={'Close': 'Close_vix'}, inplace=True)\n",
    "eur_usd.rename(columns={'Close': 'Close_eur_usd'}, inplace=True)\n",
    "oil.rename(columns={'Close': 'Close_oil'}, inplace=True)\n"
   ],
   "id": "277c7dd0acd348da",
   "outputs": [],
   "execution_count": 49
  },
  {
   "metadata": {
    "ExecuteTime": {
     "end_time": "2024-05-05T21:03:14.702655Z",
     "start_time": "2024-05-05T21:03:14.686752Z"
    }
   },
   "cell_type": "code",
   "source": [
    "# merge all data\n",
    "data = pd.merge(gold, sp500, on='Date', how='inner')\n",
    "data = pd.merge(data, vix, on='Date', how='inner')\n",
    "data = pd.merge(data, eur_usd, on='Date', how='inner')\n",
    "data = pd.merge(data, oil, on='Date', how='inner')\n",
    "data = pd.merge(data, cfsi, on='Date', how='inner')\n",
    "\n"
   ],
   "id": "66a6917e6eca34",
   "outputs": [],
   "execution_count": 37
  },
  {
   "metadata": {
    "ExecuteTime": {
     "end_time": "2024-05-05T21:03:16.857590Z",
     "start_time": "2024-05-05T21:03:16.846098Z"
    }
   },
   "cell_type": "code",
   "source": "data",
   "id": "25e93ca2667d3f93",
   "outputs": [
    {
     "data": {
      "text/plain": [
       "            Date  Close_gold  Close_sp500  Close_vix  Close_eur_usd  \\\n",
       "0     2004-11-18   44.380001  1183.550049  12.980000       1.294901   \n",
       "1     2004-11-19   44.779999  1170.339966  13.500000       1.303900   \n",
       "2     2004-11-22   44.950001  1177.239990  12.970000       1.304002   \n",
       "3     2004-11-23   44.750000  1176.939941  12.670000       1.309706   \n",
       "4     2004-11-24   45.049999  1181.760010  12.720000       1.317801   \n",
       "...          ...         ...          ...        ...            ...   \n",
       "2461  2014-10-13  118.519997  1874.739990  24.639999       1.263983   \n",
       "2462  2014-10-14  118.589996  1877.699951  22.790001       1.272394   \n",
       "2463  2014-10-15  118.989998  1862.489990  25.270000       1.263903   \n",
       "2464  2014-10-16  119.220001  1862.760010  25.200001       1.282166   \n",
       "2465  2014-10-17  118.989998  1886.760010  21.990000       1.280442   \n",
       "\n",
       "      Close_oil  CFSI  \n",
       "0     46.220001 -0.32  \n",
       "1     48.439999 -0.31  \n",
       "2     48.639999 -0.31  \n",
       "3     48.939999 -0.31  \n",
       "4     49.439999 -0.31  \n",
       "...         ...   ...  \n",
       "2461  85.739998 -0.33  \n",
       "2462  81.839996 -0.23  \n",
       "2463  81.779999 -0.14  \n",
       "2464  82.699997 -0.04  \n",
       "2465  82.750000  0.06  \n",
       "\n",
       "[2466 rows x 7 columns]"
      ],
      "text/html": [
       "<div>\n",
       "<style scoped>\n",
       "    .dataframe tbody tr th:only-of-type {\n",
       "        vertical-align: middle;\n",
       "    }\n",
       "\n",
       "    .dataframe tbody tr th {\n",
       "        vertical-align: top;\n",
       "    }\n",
       "\n",
       "    .dataframe thead th {\n",
       "        text-align: right;\n",
       "    }\n",
       "</style>\n",
       "<table border=\"1\" class=\"dataframe\">\n",
       "  <thead>\n",
       "    <tr style=\"text-align: right;\">\n",
       "      <th></th>\n",
       "      <th>Date</th>\n",
       "      <th>Close_gold</th>\n",
       "      <th>Close_sp500</th>\n",
       "      <th>Close_vix</th>\n",
       "      <th>Close_eur_usd</th>\n",
       "      <th>Close_oil</th>\n",
       "      <th>CFSI</th>\n",
       "    </tr>\n",
       "  </thead>\n",
       "  <tbody>\n",
       "    <tr>\n",
       "      <th>0</th>\n",
       "      <td>2004-11-18</td>\n",
       "      <td>44.380001</td>\n",
       "      <td>1183.550049</td>\n",
       "      <td>12.980000</td>\n",
       "      <td>1.294901</td>\n",
       "      <td>46.220001</td>\n",
       "      <td>-0.32</td>\n",
       "    </tr>\n",
       "    <tr>\n",
       "      <th>1</th>\n",
       "      <td>2004-11-19</td>\n",
       "      <td>44.779999</td>\n",
       "      <td>1170.339966</td>\n",
       "      <td>13.500000</td>\n",
       "      <td>1.303900</td>\n",
       "      <td>48.439999</td>\n",
       "      <td>-0.31</td>\n",
       "    </tr>\n",
       "    <tr>\n",
       "      <th>2</th>\n",
       "      <td>2004-11-22</td>\n",
       "      <td>44.950001</td>\n",
       "      <td>1177.239990</td>\n",
       "      <td>12.970000</td>\n",
       "      <td>1.304002</td>\n",
       "      <td>48.639999</td>\n",
       "      <td>-0.31</td>\n",
       "    </tr>\n",
       "    <tr>\n",
       "      <th>3</th>\n",
       "      <td>2004-11-23</td>\n",
       "      <td>44.750000</td>\n",
       "      <td>1176.939941</td>\n",
       "      <td>12.670000</td>\n",
       "      <td>1.309706</td>\n",
       "      <td>48.939999</td>\n",
       "      <td>-0.31</td>\n",
       "    </tr>\n",
       "    <tr>\n",
       "      <th>4</th>\n",
       "      <td>2004-11-24</td>\n",
       "      <td>45.049999</td>\n",
       "      <td>1181.760010</td>\n",
       "      <td>12.720000</td>\n",
       "      <td>1.317801</td>\n",
       "      <td>49.439999</td>\n",
       "      <td>-0.31</td>\n",
       "    </tr>\n",
       "    <tr>\n",
       "      <th>...</th>\n",
       "      <td>...</td>\n",
       "      <td>...</td>\n",
       "      <td>...</td>\n",
       "      <td>...</td>\n",
       "      <td>...</td>\n",
       "      <td>...</td>\n",
       "      <td>...</td>\n",
       "    </tr>\n",
       "    <tr>\n",
       "      <th>2461</th>\n",
       "      <td>2014-10-13</td>\n",
       "      <td>118.519997</td>\n",
       "      <td>1874.739990</td>\n",
       "      <td>24.639999</td>\n",
       "      <td>1.263983</td>\n",
       "      <td>85.739998</td>\n",
       "      <td>-0.33</td>\n",
       "    </tr>\n",
       "    <tr>\n",
       "      <th>2462</th>\n",
       "      <td>2014-10-14</td>\n",
       "      <td>118.589996</td>\n",
       "      <td>1877.699951</td>\n",
       "      <td>22.790001</td>\n",
       "      <td>1.272394</td>\n",
       "      <td>81.839996</td>\n",
       "      <td>-0.23</td>\n",
       "    </tr>\n",
       "    <tr>\n",
       "      <th>2463</th>\n",
       "      <td>2014-10-15</td>\n",
       "      <td>118.989998</td>\n",
       "      <td>1862.489990</td>\n",
       "      <td>25.270000</td>\n",
       "      <td>1.263903</td>\n",
       "      <td>81.779999</td>\n",
       "      <td>-0.14</td>\n",
       "    </tr>\n",
       "    <tr>\n",
       "      <th>2464</th>\n",
       "      <td>2014-10-16</td>\n",
       "      <td>119.220001</td>\n",
       "      <td>1862.760010</td>\n",
       "      <td>25.200001</td>\n",
       "      <td>1.282166</td>\n",
       "      <td>82.699997</td>\n",
       "      <td>-0.04</td>\n",
       "    </tr>\n",
       "    <tr>\n",
       "      <th>2465</th>\n",
       "      <td>2014-10-17</td>\n",
       "      <td>118.989998</td>\n",
       "      <td>1886.760010</td>\n",
       "      <td>21.990000</td>\n",
       "      <td>1.280442</td>\n",
       "      <td>82.750000</td>\n",
       "      <td>0.06</td>\n",
       "    </tr>\n",
       "  </tbody>\n",
       "</table>\n",
       "<p>2466 rows × 7 columns</p>\n",
       "</div>"
      ]
     },
     "execution_count": 38,
     "metadata": {},
     "output_type": "execute_result"
    }
   ],
   "execution_count": 38
  },
  {
   "metadata": {
    "ExecuteTime": {
     "end_time": "2024-05-05T21:07:57.906050Z",
     "start_time": "2024-05-05T21:07:57.880269Z"
    }
   },
   "cell_type": "code",
   "source": "#data.to_csv('basicdata.csv', index=False)",
   "id": "41e049df9ec29696",
   "outputs": [],
   "execution_count": 51
  },
  {
   "metadata": {
    "ExecuteTime": {
     "end_time": "2024-05-05T21:08:48.486929Z",
     "start_time": "2024-05-05T21:08:48.477802Z"
    }
   },
   "cell_type": "code",
   "source": [
    "# define 4 phases of data:\n",
    "# 1. start - 30 november 2007 (before)\n",
    "# 2. 3 december 2007 - 30 june 2009 (during)\n",
    "# 3. 1 july 2009 - 28 march 2013 (after)\n",
    "# 4. 2 april 2013 - 20 october 2014 (post)\n",
    "\n",
    "before = data[data['Date'] <= '2007-11-30']\n",
    "during = data[(data['Date'] >= '2007-12-03') & (data['Date'] <= '2009-06-30')]\n",
    "after = data[(data['Date'] >= '2009-07-01') & (data['Date'] <= '2013-03-28')]\n",
    "post = data[(data['Date'] >= '2013-04-02') & (data['Date'] <= '2014-10-20')]\n"
   ],
   "id": "4aa92a77211db8b2",
   "outputs": [],
   "execution_count": 52
  },
  {
   "metadata": {
    "ExecuteTime": {
     "end_time": "2024-05-05T21:08:58.682855Z",
     "start_time": "2024-05-05T21:08:58.678261Z"
    }
   },
   "cell_type": "code",
   "source": [
    "# print all lengths\n",
    "print(len(before))\n",
    "print(len(during))\n",
    "print(len(after))\n",
    "print(len(post))"
   ],
   "id": "c2f0c8efbf2ee06e",
   "outputs": [
    {
     "name": "stdout",
     "output_type": "stream",
     "text": [
      "756\n",
      "377\n",
      "941\n",
      "391\n"
     ]
    }
   ],
   "execution_count": 53
  },
  {
   "metadata": {
    "ExecuteTime": {
     "end_time": "2024-05-05T21:09:17.196436Z",
     "start_time": "2024-05-05T21:09:17.168682Z"
    }
   },
   "cell_type": "code",
   "source": [
    "# save all to csv\n",
    "# before.to_csv('before.csv', index=False)\n",
    "# during.to_csv('during.csv', index=False)\n",
    "# after.to_csv('after.csv', index=False)\n",
    "# post.to_csv('post.csv', index=False)"
   ],
   "id": "b089b9e9a6a0fa0c",
   "outputs": [],
   "execution_count": 54
  },
  {
   "metadata": {},
   "cell_type": "code",
   "outputs": [],
   "execution_count": null,
   "source": "",
   "id": "5f86e362f8940e2d"
  }
 ],
 "metadata": {
  "kernelspec": {
   "display_name": "Python 3",
   "language": "python",
   "name": "python3"
  },
  "language_info": {
   "codemirror_mode": {
    "name": "ipython",
    "version": 2
   },
   "file_extension": ".py",
   "mimetype": "text/x-python",
   "name": "python",
   "nbconvert_exporter": "python",
   "pygments_lexer": "ipython2",
   "version": "2.7.6"
  }
 },
 "nbformat": 4,
 "nbformat_minor": 5
}
